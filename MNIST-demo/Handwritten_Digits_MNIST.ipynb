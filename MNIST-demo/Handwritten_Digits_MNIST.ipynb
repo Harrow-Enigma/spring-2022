{
  "nbformat": 4,
  "nbformat_minor": 0,
  "metadata": {
    "colab": {
      "name": "MNIST.ipynb",
      "private_outputs": true,
      "provenance": [],
      "collapsed_sections": [],
      "authorship_tag": "ABX9TyO4T1uNyCFZxl1YDrzZi4ko",
      "include_colab_link": true
    },
    "kernelspec": {
      "name": "python3",
      "display_name": "Python 3"
    },
    "language_info": {
      "name": "python"
    },
    "accelerator": "GPU"
  },
  "cells": [
    {
      "cell_type": "markdown",
      "metadata": {
        "id": "view-in-github",
        "colab_type": "text"
      },
      "source": [
        "<a href=\"https://colab.research.google.com/github/Harrow-Enigma/spring-2022/blob/main/MNIST-demo/Handwritten_Digits_MNIST.ipynb\" target=\"_parent\"><img src=\"https://colab.research.google.com/assets/colab-badge.svg\" alt=\"Open In Colab\"/></a>"
      ]
    },
    {
      "cell_type": "markdown",
      "source": [
        "<p><img alt=\"Enigma Logo\" height=\"100px\" src=\"https://avatars.githubusercontent.com/u/74505663?v=4\" align=\"left\" hspace=\"10px\" vspace=\"0px\"></p>\n",
        "\n",
        "# Handwritten Digits Recognition\n",
        "*By Team Enigma*\n",
        "\n",
        "Based off [this official PyTorch tutorial](https://pytorch.org/tutorials/beginner/basics/optimization_tutorial.html)."
      ],
      "metadata": {
        "id": "q3Cezk_Y0RsX"
      }
    },
    {
      "cell_type": "code",
      "execution_count": null,
      "metadata": {
        "id": "pcLRHjp10MHF"
      },
      "outputs": [],
      "source": [
        "#@title Copyright 2022 Team Enigma, licensed under the GNU GPL v3 License\n",
        "\n",
        "print(\"\"\"\n",
        "MNIST Handwritten Digits Recognition with Machine Learning.\n",
        "Copyright (C) 2022  Team Enigma\n",
        "\n",
        "This program is free software: you can redistribute it and/or modify\n",
        "it under the terms of the GNU General Public License as published by\n",
        "the Free Software Foundation, either version 3 of the License, or\n",
        "(at your option) any later version.\n",
        "\n",
        "This program is distributed in the hope that it will be useful,\n",
        "but WITHOUT ANY WARRANTY; without even the implied warranty of\n",
        "MERCHANTABILITY or FITNESS FOR A PARTICULAR PURPOSE.  See the\n",
        "GNU General Public License for more details.\n",
        "\n",
        "You should have received a copy of the GNU General Public License\n",
        "along with this program.  If not, see <https://www.gnu.org/licenses/>.\n",
        "\"\"\")"
      ]
    },
    {
      "cell_type": "markdown",
      "source": [
        "## Data Loading"
      ],
      "metadata": {
        "id": "Rvqsh-ceEmOM"
      }
    },
    {
      "cell_type": "code",
      "source": [
        "#@title Importing Libraries and Getting Datasets\n",
        "import torch\n",
        "import torch.nn as nn\n",
        "from torch.utils.data import DataLoader\n",
        "\n",
        "import torchvision\n",
        "import torchvision.datasets as datasets\n",
        "from torchvision.transforms import ToTensor\n",
        "\n",
        "import numpy as np\n",
        "import seaborn as sns\n",
        "from matplotlib import pyplot as plt\n",
        "from sklearn.metrics import confusion_matrix\n",
        "\n",
        "MNIST_TRAIN = datasets.MNIST(root='./data', train=True, download=True, transform=ToTensor())\n",
        "MNIST_TEST = datasets.MNIST(root='./data', train=False, download=True, transform=ToTensor())\n",
        "\n",
        "train_dataloader = DataLoader(MNIST_TRAIN, batch_size=64, shuffle=True)\n",
        "test_dataloader = DataLoader(MNIST_TEST, batch_size=64, shuffle=True)"
      ],
      "metadata": {
        "id": "lQ1zza3CPaZS",
        "cellView": "form"
      },
      "execution_count": null,
      "outputs": []
    },
    {
      "cell_type": "code",
      "source": [
        "#@title Data Visualisation\n",
        "sample_index =  3#@param {type:\"integer\"}\n",
        "\n",
        "sample_image, sample_label = MNIST_TRAIN[sample_index]\n",
        "plt.imshow(sample_image[0], cmap=\"gray\")\n",
        "plt.show()\n",
        "print(f'Training data index {sample_index}: image of shape {sample_image.shape}, label {sample_label}')"
      ],
      "metadata": {
        "cellView": "form",
        "id": "PxVnIkLhltDB"
      },
      "execution_count": null,
      "outputs": []
    },
    {
      "cell_type": "markdown",
      "source": [
        "## Creating Neural Network"
      ],
      "metadata": {
        "id": "Q9Lb-nZ8EpIG"
      }
    },
    {
      "cell_type": "code",
      "source": [
        "class NeuralNet(nn.Module):\n",
        "    def __init__(self):\n",
        "        super(NeuralNet, self).__init__()\n",
        "\n",
        "        self.flatten = nn.Flatten()\n",
        "        self.stack = nn.Sequential(\n",
        "            nn.Linear(28 * 28, 512),    # fully connected perceptron layer\n",
        "            nn.ReLU(),                  # ReLU activation function\n",
        "            nn.Linear(512, 512),\n",
        "            nn.ReLU(),\n",
        "            nn.Linear(512, 10)\n",
        "        )\n",
        "    \n",
        "    def forward(self, x):\n",
        "        x = self.flatten(x)\n",
        "        logits = self.stack(x)\n",
        "        return logits\n",
        "\n",
        "model = NeuralNet()\n",
        "\n",
        "print(model)"
      ],
      "metadata": {
        "id": "UCl5G56sPX_b"
      },
      "execution_count": null,
      "outputs": []
    },
    {
      "cell_type": "markdown",
      "source": [
        "## Training"
      ],
      "metadata": {
        "id": "0Y8CDclGEsLU"
      }
    },
    {
      "cell_type": "code",
      "source": [
        "#@title Training Hyperparameters\n",
        "LEARNING_RATE = 1e-3 #@param {type:\"number\"}\n",
        "EPOCHS = 10 #@param {type:\"slider\", min:1, max:100, step:1}\n"
      ],
      "metadata": {
        "cellView": "form",
        "id": "ZsgUJzux6s3U"
      },
      "execution_count": null,
      "outputs": []
    },
    {
      "cell_type": "code",
      "source": [
        "loss_fn = nn.CrossEntropyLoss() # specify loss function\n",
        "optimizer = torch.optim.SGD(model.parameters(), lr=LEARNING_RATE) # specify gradient descent algorithm"
      ],
      "metadata": {
        "id": "ZttzhICl6rZQ"
      },
      "execution_count": null,
      "outputs": []
    },
    {
      "cell_type": "code",
      "source": [
        "def train_loop():\n",
        "    size = len(train_dataloader.dataset)\n",
        "\n",
        "    # load batches\n",
        "    for batch, (inp, targ) in enumerate(train_dataloader):\n",
        "        \n",
        "        pred = model(inp)           # model makes predictions\n",
        "        loss = loss_fn(pred, targ)  # loss calculated\n",
        "\n",
        "        optimizer.zero_grad()       # clear previous gradients\n",
        "        loss.backward()             # perform differentiation and calculate gradients\n",
        "        optimizer.step()            # apply gradient descent!\n",
        "\n",
        "        # info printing\n",
        "        if batch % 100 == 0:\n",
        "            loss, current = loss.item(), batch * len(targ)\n",
        "            print(f\"loss: {loss:>7f}  [{current:>5d}/{size:>5d}]\")\n",
        "\n",
        "# testing model\n",
        "def test_loop():\n",
        "    size = len(test_dataloader.dataset)\n",
        "    num_batches = len(test_dataloader)\n",
        "    test_loss, correct = 0, 0\n",
        "\n",
        "    with torch.no_grad():\n",
        "        for inp, targ in test_dataloader:\n",
        "            pred = model(inp)\n",
        "            test_loss += loss_fn(pred, targ).item()\n",
        "            correct += (pred.argmax(1) == targ).type(torch.float).sum().item()\n",
        "\n",
        "    test_loss /= num_batches\n",
        "    correct /= size\n",
        "    print(f\"Test Error: \\n Accuracy: {(100*correct):>0.1f}%, Avg loss: {test_loss:>8f} \\n\")\n",
        "\n",
        "# confusion matrix\n",
        "def show_confusion_matrix():\n",
        "    y_true = []\n",
        "    y_pred = []\n",
        "    with torch.no_grad():\n",
        "        for inp, targ in test_dataloader:\n",
        "            pred = model(inp)\n",
        "            y_true.extend(targ.numpy().tolist())\n",
        "            y_pred.extend(pred.argmax(1).numpy().tolist())\n",
        "    matrix = confusion_matrix(y_true, y_pred)\n",
        "\n",
        "    plt.figure(figsize=(10, 10))\n",
        "    sns.heatmap(matrix,\n",
        "                xticklabels=[i for i in range(10)],\n",
        "                yticklabels=[i for i in range(10)],\n",
        "                annot=True, fmt='g')\n",
        "    plt.xlabel('Prediction')\n",
        "    plt.ylabel('Label')\n",
        "    plt.show()"
      ],
      "metadata": {
        "id": "i4aeLfIc_kbv"
      },
      "execution_count": null,
      "outputs": []
    },
    {
      "cell_type": "code",
      "source": [
        "#@title Model Training!\n",
        "for ep in range(EPOCHS):\n",
        "    print(f\"Epoch {ep+1} starting\")\n",
        "    train_loop()\n",
        "    test_loop()"
      ],
      "metadata": {
        "cellView": "form",
        "id": "Zk5S9Qs86p4B"
      },
      "execution_count": null,
      "outputs": []
    },
    {
      "cell_type": "code",
      "source": [
        "show_confusion_matrix()"
      ],
      "metadata": {
        "id": "P4mr2zUEL5QQ"
      },
      "execution_count": null,
      "outputs": []
    },
    {
      "cell_type": "markdown",
      "source": [
        "## Prediction"
      ],
      "metadata": {
        "id": "8fPTl2q8Einc"
      }
    },
    {
      "cell_type": "markdown",
      "source": [
        "Now go to [Pixilart](https://www.pixilart.com/draw)! Load in the template I've given you, draw a number, and see if the AI model recognises it!"
      ],
      "metadata": {
        "id": "QsAuZHO6ybkD"
      }
    },
    {
      "cell_type": "code",
      "source": [
        "#@title Image Prediction Tool\n",
        "#@markdown Enter your image filename in the field below, and we will use your trained AI model to predict the digit!\n",
        "\n",
        "def load_image(fpath):\n",
        "    transform = torchvision.transforms.Grayscale()\n",
        "    img = torchvision.io.read_image(fpath)\n",
        "    gray_img = transform(img[:3]).type(torch.float32)\n",
        "    return gray_img\n",
        "\n",
        "def predict(fpath):\n",
        "    img = load_image(fpath)\n",
        "    plt.imshow(img[0], cmap=\"gray\")\n",
        "    plt.show()\n",
        "\n",
        "    logits = model(img)\n",
        "    pred = torch.argmax(logits).item()\n",
        "    print(f'Model prediction: {pred}')\n",
        "\n",
        "image_path = \"pixil-7-demo.png\" #@param {type:\"string\"}\n",
        "#@markdown \n",
        "\n",
        "predict(image_path)"
      ],
      "metadata": {
        "cellView": "form",
        "id": "-aiWeycyDRtQ"
      },
      "execution_count": null,
      "outputs": []
    }
  ]
}