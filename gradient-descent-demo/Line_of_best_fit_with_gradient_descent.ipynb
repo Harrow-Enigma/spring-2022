{
  "nbformat": 4,
  "nbformat_minor": 0,
  "metadata": {
    "colab": {
      "name": "Gradient Descent.ipynb",
      "provenance": [],
      "collapsed_sections": [],
      "private_outputs": true,
      "toc_visible": true,
      "authorship_tag": "ABX9TyN9p5AleJP6IZ4IvZkihkch",
      "include_colab_link": true
    },
    "kernelspec": {
      "name": "python3",
      "display_name": "Python 3"
    },
    "language_info": {
      "name": "python"
    }
  },
  "cells": [
    {
      "cell_type": "markdown",
      "metadata": {
        "id": "view-in-github",
        "colab_type": "text"
      },
      "source": [
        "<a href=\"https://colab.research.google.com/github/Harrow-Enigma/spring-2022/blob/main/gradient-descent-demo/Line_of_best_fit_with_gradient_descent.ipynb\" target=\"_parent\"><img src=\"https://colab.research.google.com/assets/colab-badge.svg\" alt=\"Open In Colab\"/></a>"
      ]
    },
    {
      "cell_type": "markdown",
      "source": [
        "<p><img alt=\"Enigma Logo\" height=\"100px\" src=\"https://avatars.githubusercontent.com/u/74505663?v=4\" align=\"left\" hspace=\"10px\" vspace=\"0px\"></p>\n",
        "\n",
        "# Gradient Descent Demo: Line of Best Fit\n",
        "*By Team Enigma*"
      ],
      "metadata": {
        "id": "q3Cezk_Y0RsX"
      }
    },
    {
      "cell_type": "code",
      "execution_count": null,
      "metadata": {
        "cellView": "form",
        "id": "pcLRHjp10MHF"
      },
      "outputs": [],
      "source": [
        "#@title Copyright 2022 Team Enigma, licensed under the GNU GPL v3 License\n",
        "\n",
        "print(\"\"\"\n",
        "Code illustrating gradient descent by iteratively updating a line of best fit.\n",
        "Copyright (C) 2022  Team Enigma\n",
        "\n",
        "This program is free software: you can redistribute it and/or modify\n",
        "it under the terms of the GNU General Public License as published by\n",
        "the Free Software Foundation, either version 3 of the License, or\n",
        "(at your option) any later version.\n",
        "\n",
        "This program is distributed in the hope that it will be useful,\n",
        "but WITHOUT ANY WARRANTY; without even the implied warranty of\n",
        "MERCHANTABILITY or FITNESS FOR A PARTICULAR PURPOSE.  See the\n",
        "GNU General Public License for more details.\n",
        "\n",
        "You should have received a copy of the GNU General Public License\n",
        "along with this program.  If not, see <https://www.gnu.org/licenses/>.\n",
        "\"\"\")"
      ]
    },
    {
      "cell_type": "markdown",
      "source": [
        "## Setting Up"
      ],
      "metadata": {
        "id": "PM6m-2kBEOQV"
      }
    },
    {
      "cell_type": "code",
      "source": [
        "#@title Importing Libraries\n",
        "\n",
        "import cv2\n",
        "import numpy as np\n",
        "from matplotlib import pyplot as plt\n",
        "from google.colab.patches import cv2_imshow\n",
        "\n",
        "import warnings\n",
        "warnings.filterwarnings(\"ignore\")"
      ],
      "metadata": {
        "id": "3a2PImf_p2CC",
        "cellView": "form"
      },
      "execution_count": null,
      "outputs": []
    },
    {
      "cell_type": "code",
      "source": [
        "#@title Plotting Utilities\n",
        "\n",
        "x_vals = np.arange(0, 10, 0.1)\n",
        "\n",
        "def return_linear_plot_obj(m, c):\n",
        "    fig = plt.figure()\n",
        "    ax = fig.add_subplot(1, 1, 1)\n",
        "    ax.plot(x_vals, m * x_vals + c)\n",
        "\n",
        "    ax.set_xlim([0, 10])\n",
        "    ax.set_ylim([0, 20])\n",
        "\n",
        "    return fig\n",
        "\n",
        "def plot_linear(m, c):\n",
        "    return_linear_plot_obj(m, c)\n",
        "    plt.show()\n",
        "\n",
        "def get_linear_img(m, c):\n",
        "    fig = return_linear_plot_obj(m, c)\n",
        "    fig.canvas.draw()\n",
        "\n",
        "    img = np.fromstring(\n",
        "        fig.canvas.tostring_rgb(), dtype=np.uint8, sep=''\n",
        "    )\n",
        "    img  = img.reshape(fig.canvas.get_width_height()[::-1] + (3,))\n",
        "    img = cv2.cvtColor(img,cv2.COLOR_RGB2BGR)\n",
        "    height, width, _ = img.shape\n",
        "\n",
        "    fig.clear()\n",
        "\n",
        "    return img, width, height\n",
        "\n",
        "def create_video(fname, frames, w, h):\n",
        "    video = cv2.VideoWriter(fname, cv2.VideoWriter_fourcc(*'MP4V'), 30, (w, h))\n",
        "    for f in frames:\n",
        "        video.write(f)\n",
        "    cv2.destroyAllWindows()\n",
        "    video.release()"
      ],
      "metadata": {
        "id": "mjU-f1CVxyz4",
        "cellView": "form"
      },
      "execution_count": null,
      "outputs": []
    },
    {
      "cell_type": "markdown",
      "source": [
        "## Target Function and Data Generation"
      ],
      "metadata": {
        "id": "d2kh9klgEaoH"
      }
    },
    {
      "cell_type": "code",
      "source": [
        "M, C = 1.5, 2\n",
        "\n",
        "print(f'Target function: m={M}, c={C}\\n')\n",
        "\n",
        "def target_function(inp):\n",
        "    return M * inp + C\n",
        "\n",
        "y_vals = target_function(x_vals)\n",
        "\n",
        "plot_linear(M, C)"
      ],
      "metadata": {
        "id": "gqoqCLKupxCe"
      },
      "execution_count": null,
      "outputs": []
    },
    {
      "cell_type": "markdown",
      "source": [
        "## Single Perceptron and Gradients"
      ],
      "metadata": {
        "id": "2nORYJJcEg9U"
      }
    },
    {
      "cell_type": "code",
      "execution_count": null,
      "metadata": {
        "id": "LcsQrGuBGZHg"
      },
      "outputs": [],
      "source": [
        "def perceptron(x, m, c):\n",
        "    return m * x + c\n",
        "\n",
        "def perceptron_grad(x, m, c):\n",
        "    return {'m': x, 'c': 1}"
      ]
    },
    {
      "cell_type": "markdown",
      "source": [
        "## Loss Function and Gradients"
      ],
      "metadata": {
        "id": "yStKZCFpEpkY"
      }
    },
    {
      "cell_type": "code",
      "source": [
        "def loss(y_target, y):\n",
        "    if y > y_target:\n",
        "        return y - y_target\n",
        "    if y < y_target:\n",
        "        return y_target - y\n",
        "    if y == y_target:\n",
        "        return 0\n",
        "\n",
        "def loss_grad(y_target, y):\n",
        "    if y > y_target:\n",
        "        return 1\n",
        "    if y < y_target:\n",
        "        return -1\n",
        "    if y == y_target:\n",
        "        print('Error - gradient = 0')\n",
        "        return 0"
      ],
      "metadata": {
        "id": "6iHK8EEfxmOh"
      },
      "execution_count": null,
      "outputs": []
    },
    {
      "cell_type": "code",
      "source": [
        "def apply_gradients(val, grad, lr):\n",
        "    return val - lr * grad"
      ],
      "metadata": {
        "id": "4TVbN-OezoqM"
      },
      "execution_count": null,
      "outputs": []
    },
    {
      "cell_type": "markdown",
      "source": [
        "## Approximation Initialisation and Visualisation"
      ],
      "metadata": {
        "id": "D_qQIq8AExkH"
      }
    },
    {
      "cell_type": "code",
      "source": [
        "m, c = 1, 1\n",
        "\n",
        "print(f'Approximate function initialisation: m={m}, c={c}\\n')\n",
        "\n",
        "plot_linear(m, c)"
      ],
      "metadata": {
        "id": "j-1_PwYgysnO"
      },
      "execution_count": null,
      "outputs": []
    },
    {
      "cell_type": "code",
      "source": [
        "x_test = 2\n",
        "targ = target_function(x_test)\n",
        "out = perceptron(x_test, m, c)\n",
        "print(f'At x={x_test}, output={out}, ground truth={targ}, loss={loss(targ, out)}\\n')\n",
        "\n",
        "scout = 0.5\n",
        "m_neighbours = np.arange(m-scout, m+scout, 0.01)\n",
        "m_neighbour_losses = [loss(targ, perceptron(x_test, n, c)) for n in m_neighbours]\n",
        "\n",
        "plt.plot(m_neighbours, m_neighbour_losses)\n",
        "plt.xlabel('m')\n",
        "plt.ylabel('loss')\n",
        "plt.title(f'How the loss changes as m changes in the neighbourhood of x={x_test}')\n",
        "plt.show()"
      ],
      "metadata": {
        "id": "pkwWkfGw1YnO"
      },
      "execution_count": null,
      "outputs": []
    },
    {
      "cell_type": "markdown",
      "source": [
        "## Training"
      ],
      "metadata": {
        "id": "OLTbDQFXE2OU"
      }
    },
    {
      "cell_type": "code",
      "source": [
        "learning_rate = 0.001\n",
        "epochs = 100\n",
        "\n",
        "frames, w, h = [], 0, 0\n",
        "\n",
        "for ep in range(100):\n",
        "    total_loss = []\n",
        "\n",
        "    for e, (i, t) in enumerate(zip(x_vals, y_vals)):\n",
        "        # computing outputs\n",
        "        y = perceptron(i, m, c)\n",
        "        l = loss(t, y)\n",
        "\n",
        "        # gradient propagating\n",
        "        l_grad = loss_grad(t, y)\n",
        "        y_grad = perceptron_grad(i, m, c)\n",
        "        m_grad = y_grad['m'] * l_grad     # chain rule\n",
        "        c_grad = y_grad['c'] * l_grad     # chain rule\n",
        "\n",
        "        # gradient update\n",
        "        m = apply_gradients(m, m_grad, learning_rate)\n",
        "        c = apply_gradients(c, c_grad, learning_rate)\n",
        "\n",
        "        total_loss.append(l)\n",
        "        if e % ((10*10)/(epochs*len(x_vals))) == 0:\n",
        "            img, w, h = get_linear_img(m, c)\n",
        "            frames.append(img)\n",
        "    \n",
        "    print(f'Epoch {ep+1} mean loss: {np.mean(total_loss)}; m={m}, c={c}')"
      ],
      "metadata": {
        "id": "wteWnDjlqnZ8"
      },
      "execution_count": null,
      "outputs": []
    },
    {
      "cell_type": "markdown",
      "source": [
        "### Result Visualisation"
      ],
      "metadata": {
        "id": "3wGJ5xBRE4uj"
      }
    },
    {
      "cell_type": "code",
      "source": [
        "print(f'Approximate function result: m={m}, c={c}\\n')\n",
        "\n",
        "plot_linear(m, c)"
      ],
      "metadata": {
        "id": "uVPfFfgP0dha"
      },
      "execution_count": null,
      "outputs": []
    },
    {
      "cell_type": "code",
      "source": [
        "create_video('convergence.mp4', frames, w, h)"
      ],
      "metadata": {
        "id": "mzuYcXS795ev"
      },
      "execution_count": null,
      "outputs": []
    }
  ]
}